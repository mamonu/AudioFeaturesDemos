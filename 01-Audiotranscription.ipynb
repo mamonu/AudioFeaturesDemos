{
 "cells": [
  {
   "cell_type": "markdown",
   "metadata": {},
   "source": [
    "\n",
    "\n",
    "### mp3 to wav\n",
    "\n",
    "     >  ffmpeg -i input.mp3 output.wav \n",
    "  \n",
    "### to install pocketsphinx \n",
    "\n",
    "     >  sudo apt-get install python3-all-dev build-essential swig git libpulse-dev\n",
    "    \n",
    "     >  pip install pocketsphinx\n",
    "    "
   ]
  },
  {
   "cell_type": "code",
   "execution_count": 7,
   "metadata": {},
   "outputs": [
    {
     "name": "stdout",
     "output_type": "stream",
     "text": [
      "ffmpeg version 3.3.3 Copyright (c) 2000-2017 the FFmpeg developers\n",
      "  built with gcc 4.8 (Ubuntu 4.8.4-2ubuntu1~14.04.3)\n",
      "  configuration: --extra-libs=-ldl --prefix=/opt/ffmpeg --mandir=/usr/share/man --enable-avresample --disable-debug --enable-nonfree --enable-gpl --enable-version3 --enable-libopencore-amrnb --enable-libopencore-amrwb --disable-decoder=amrnb --disable-decoder=amrwb --enable-libpulse --enable-libfreetype --enable-gnutls --disable-ffserver --enable-libx264 --enable-libx265 --enable-libfdk-aac --enable-libvorbis --enable-libtheora --enable-libmp3lame --enable-libopus --enable-libvpx --enable-libspeex --enable-libass --enable-avisynth --enable-libsoxr --enable-libxvid --enable-libvidstab --enable-libwavpack --enable-nvenc --enable-libzimg\n",
      "  libavutil      55. 58.100 / 55. 58.100\n",
      "  libavcodec     57. 89.100 / 57. 89.100\n",
      "  libavformat    57. 71.100 / 57. 71.100\n",
      "  libavdevice    57.  6.100 / 57.  6.100\n",
      "  libavfilter     6. 82.100 /  6. 82.100\n",
      "  libavresample   3.  5.  0 /  3.  5.  0\n",
      "  libswscale      4.  6.100 /  4.  6.100\n",
      "  libswresample   2.  7.100 /  2.  7.100\n",
      "  libpostproc    54.  5.100 / 54.  5.100\n",
      "\u001b[0;35m[mp3 @ 0x28aed60] \u001b[0m\u001b[0;33mEstimating duration from bitrate, this may be inaccurate\n",
      "\u001b[0mInput #0, mp3, from 'bbc_witn_ants.mp3':\n",
      "  Duration: 00:00:40.25, start: 0.000000, bitrate: 111 kb/s\n",
      "    Stream #0:0: Audio: mp3, 44100 Hz, stereo, s16p, 112 kb/s\n",
      "Stream mapping:\n",
      "  Stream #0:0 -> #0:0 (mp3 (native) -> pcm_s16le (native))\n",
      "Press [q] to stop, [?] for help\n",
      "Output #0, wav, to 'output.wav':\n",
      "  Metadata:\n",
      "    ISFT            : Lavf57.71.100\n",
      "    Stream #0:0: Audio: pcm_s16le ([1][0][0][0] / 0x0001), 44100 Hz, stereo, s16, 1411 kb/s\n",
      "    Metadata:\n",
      "      encoder         : Lavc57.89.100 pcm_s16le\n",
      "size=    6935kB time=00:00:40.25 bitrate=1411.2kbits/s speed= 373x    \n",
      "video:0kB audio:6934kB subtitle:0kB other streams:0kB global headers:0kB muxing overhead: 0.001098%\n"
     ]
    }
   ],
   "source": [
    "!ffmpeg -i bbc_witn_ants.mp3 output.wav "
   ]
  },
  {
   "cell_type": "code",
   "execution_count": 5,
   "metadata": {
    "collapsed": true
   },
   "outputs": [],
   "source": [
    "import pyaudio"
   ]
  },
  {
   "cell_type": "code",
   "execution_count": 6,
   "metadata": {
    "scrolled": true
   },
   "outputs": [
    {
     "name": "stdout",
     "output_type": "stream",
     "text": [
      "Microphone with name \"HDA Intel HDMI: 0 (hw:0,3)\" found for `Microphone(device_index=0)`\n",
      "Microphone with name \"HDA Intel PCH: ALC3234 Analog (hw:1,0)\" found for `Microphone(device_index=1)`\n",
      "Microphone with name \"hdmi\" found for `Microphone(device_index=2)`\n",
      "Microphone with name \"pulse\" found for `Microphone(device_index=3)`\n",
      "Microphone with name \"default\" found for `Microphone(device_index=4)`\n"
     ]
    }
   ],
   "source": [
    "import speech_recognition as sr\n",
    "for index, name in enumerate(sr.Microphone.list_microphone_names()):\n",
    "    print(\"Microphone with name \\\"{1}\\\" found for `Microphone(device_index={0})`\".format(index, name))"
   ]
  },
  {
   "cell_type": "code",
   "execution_count": 7,
   "metadata": {
    "collapsed": true
   },
   "outputs": [],
   "source": [
    "from os import path\n",
    "AUDIO_FILE = \"output.wav\""
   ]
  },
  {
   "cell_type": "code",
   "execution_count": 8,
   "metadata": {},
   "outputs": [
    {
     "name": "stdout",
     "output_type": "stream",
     "text": [
      "what's in the news from bbc learning english dot com according to ecologists having a personality means showing a consistent pattern of behavior that i'm receptionist community arizona steadied colonies of rock and sit across the western u. s. was by following him in the wild and by taking call colonies back to the lab they found that certain risky behaviors like forging what the fifth and in responding aggressively to a threat went to get up and colonies for the north tended to take more of these risks the study suggests those more adventurous personalities would be a meditation to a limited window of activity best by the long snowing golden winter\n"
     ]
    }
   ],
   "source": [
    "r = sr.Recognizer()\n",
    "with sr.AudioFile(AUDIO_FILE) as source:\n",
    "    audio = r.record(source)  # read the entire audio file\n",
    " \n",
    "# recognize speech using Sphinx\n",
    "try:\n",
    "    \n",
    "    transcr=(r.recognize_sphinx(audio))\n",
    "    print(transcr)\n",
    "except sr.UnknownValueError:\n",
    "    print(\"Sphinx could not understand audio\")\n",
    "except sr.RequestError as e:\n",
    "    print(\"Sphinx error; {0}\".format(e))\n",
    "    \n"
   ]
  },
  {
   "cell_type": "code",
   "execution_count": 19,
   "metadata": {
    "collapsed": true
   },
   "outputs": [],
   "source": [
    "actual=\"\"\" According to ecologists, having a personality means showing a consistent\n",
    "pattern of behaviour over time. Researchers from the University of Arizona studied colonies of rock \n",
    "ants across the western US both by following them in the wild and by taking whole colonies back to the lab.\n",
    "They found that certain risky behaviours , like foraging widely for food and responding aggressively to a threat\n",
    "went together and colonies further north tended to take more of these risks\n",
    "The study suggests those more adventurous personalities could be an  adaptation to the limited window of activity left \n",
    "by the long snowy northern winter \"\"\"\n"
   ]
  },
  {
   "cell_type": "code",
   "execution_count": null,
   "metadata": {
    "collapsed": true
   },
   "outputs": [],
   "source": []
  },
  {
   "cell_type": "code",
   "execution_count": null,
   "metadata": {
    "collapsed": true
   },
   "outputs": [],
   "source": []
  },
  {
   "cell_type": "code",
   "execution_count": null,
   "metadata": {
    "collapsed": true
   },
   "outputs": [],
   "source": []
  },
  {
   "cell_type": "code",
   "execution_count": null,
   "metadata": {
    "collapsed": true
   },
   "outputs": [],
   "source": []
  },
  {
   "cell_type": "code",
   "execution_count": null,
   "metadata": {
    "collapsed": true
   },
   "outputs": [],
   "source": []
  },
  {
   "cell_type": "code",
   "execution_count": null,
   "metadata": {
    "collapsed": true
   },
   "outputs": [],
   "source": [
    "\n",
    "# obtain audio from the microphone\n",
    "r = sr.Recognizer()\n",
    "with sr.Microphone() as source:\n",
    "    print(\"Say something!\")\n",
    "    audio = r.listen(source)\n",
    "\n",
    "# recognize speech using Sphinx\n",
    "try:\n",
    "    print(\"Sphinx thinks you said \" + r.recognize_sphinx(audio))\n",
    "except sr.UnknownValueError:\n",
    "    print(\"Sphinx could not understand audio\")\n",
    "except sr.RequestError as e:\n",
    "print(\"Sphinx error; {0}\".format(e))"
   ]
  }
 ],
 "metadata": {
  "kernelspec": {
   "display_name": "Python 3",
   "language": "python",
   "name": "python3"
  },
  "language_info": {
   "codemirror_mode": {
    "name": "ipython",
    "version": 3
   },
   "file_extension": ".py",
   "mimetype": "text/x-python",
   "name": "python",
   "nbconvert_exporter": "python",
   "pygments_lexer": "ipython3",
   "version": "3.6.3"
  }
 },
 "nbformat": 4,
 "nbformat_minor": 2
}
